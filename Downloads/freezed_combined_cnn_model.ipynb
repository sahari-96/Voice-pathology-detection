{
  "nbformat": 4,
  "nbformat_minor": 0,
  "metadata": {
    "colab": {
      "provenance": []
    },
    "kernelspec": {
      "name": "python3",
      "display_name": "Python 3"
    },
    "language_info": {
      "name": "python"
    }
  },
  "cells": [
    {
      "cell_type": "code",
      "execution_count": null,
      "metadata": {
        "id": "iT3gm7OB1lsP"
      },
      "outputs": [],
      "source": [
        "import numpy as np\n",
        "from sklearn.svm import SVC\n",
        "from tensorflow.keras import layers, models\n",
        "\n",
        "# Load the original CNN models for MFCCs and phone posterior probs\n",
        "original_model1 = tf.keras.models.load_model('/content/drive/MyDrive/saved models/CNN_mfcc.hdf5')\n",
        "original_model2 = tf.keras.models.load_model('/content/drive/MyDrive/saved models/CNN_pos.hdf5')\n",
        "\n",
        "# Define the shape of the input data\n",
        "input_shape_mfcc = (number_of_frames, 13, 1)\n",
        "input_shape_pos = (number_of_frames, 32, 1)\n",
        "\n",
        "# Create the first input branch for MFCCs\n",
        "input1 = layers.Input(shape=input_shape_mfcc)\n",
        "frozen_layers1 = original_model1.layers[:7]  # Freeze the first 7 layers of the original model\n",
        "\n",
        "# Create a new model with frozen layers for MFCCs\n",
        "frozen_model1 = tf.keras.Sequential(frozen_layers1)\n",
        "for layer in frozen_model1.layers:\n",
        "    layer.trainable = False\n",
        "\n",
        "x1 = frozen_model1(input1)  # Pass input1 through the frozen layers\n",
        "\n",
        "# Create the second input branch for phone posterior probs\n",
        "input2 = layers.Input(shape=input_shape_pos)\n",
        "frozen_layers2 = original_model2.layers[:7]  # Freeze the first 7 layers of the original model\n",
        "\n",
        "# Create a new model with frozen layers for phone posterior probs\n",
        "frozen_model2 = tf.keras.Sequential(frozen_layers2)\n",
        "for layer in frozen_model2.layers:\n",
        "    layer.trainable = False\n",
        "\n",
        "x2 = frozen_model2(input2)  # Pass input2 through the frozen layers\n",
        "\n",
        "# Merge the branches\n",
        "merged = layers.concatenate([x1, x2])\n",
        "\n",
        "# Add more layers if needed\n",
        "merged = layers.Dropout(0.5)(merged)  # Dropout layer for regularization\n",
        "merged = layers.Dense(128, activation='relu')(merged)  # Fully connected layer with ReLU activation\n",
        "merged = layers.Dropout(0.3)(merged)  # Dropout layer for regularization\n",
        "\n",
        "# Add the final classification layer\n",
        "output = layers.Dense(1, activation='sigmoid')(merged)  # Output layer with sigmoid activation\n",
        "\n",
        "# Create the model\n",
        "model = models.Model(inputs=[input1, input2], outputs=output)  # Define the input and output of the model\n",
        "\n",
        "# Compile the model\n",
        "model.compile(optimizer='adam', loss='binary_crossentropy', metrics=['accuracy'])\n",
        "\n",
        "# Print the model summary\n",
        "model.summary()  # Display model architecture summary\n"
      ]
    }
  ]
}