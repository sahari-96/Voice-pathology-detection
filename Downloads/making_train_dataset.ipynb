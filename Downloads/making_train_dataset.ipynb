{
  "nbformat": 4,
  "nbformat_minor": 0,
  "metadata": {
    "colab": {
      "provenance": []
    },
    "kernelspec": {
      "name": "python3",
      "display_name": "Python 3"
    },
    "language_info": {
      "name": "python"
    }
  },
  "cells": [
    {
      "cell_type": "code",
      "execution_count": null,
      "metadata": {
        "id": "hdnb4fgzj7k3"
      },
      "outputs": [],
      "source": [
        "import glob\n",
        "import librosa\n",
        "import numpy as np\n",
        "import pandas as pd\n",
        "from pathlib import Path\n",
        "\n",
        "# List to store the extracted features and labels\n",
        "features_and_labels = []\n",
        "\n",
        "# Iterate over each WAV file in the directory\n",
        "for file in glob.glob(\"/content/drive/MyDrive/DATA/11/train/*.wav\"):\n",
        "    # Load audio file\n",
        "    y, sr = librosa.load(file, sr=None, mono=True)\n",
        "    # Extract the first 83 seconds of the audio\n",
        "    segment = y[:int(83 * sr)]\n",
        "    # Extract 13 MFCC features\n",
        "    mfccs = librosa.feature.mfcc(y=segment, sr=sr, n_mfcc=13)\n",
        "    # Extract file ID from filename\n",
        "    filename = Path(file).stem\n",
        "    file_id = filename.split(\"_\")[0]\n",
        "    # Append file ID and MFCC features to the list\n",
        "    features_and_labels.append([file_id, mfccs])\n",
        "\n",
        "# Read labels from a CSV file\n",
        "labels_df = pd.read_csv('/content/drive/MyDrive/DATA/Form.csv')\n",
        "\n",
        "# List to store training data with labels\n",
        "training_data = []\n",
        "\n",
        "# Match features with labels\n",
        "for feature in features_and_labels:\n",
        "    file_id = feature[0]\n",
        "    mfccs = feature[1]\n",
        "    # Find label corresponding to the file ID\n",
        "    label = labels_df.loc[labels_df['FileID'] == file_id, 'Label'].values[0]\n",
        "    # Append file ID, MFCC features, and label to the training data\n",
        "    training_data.append([file_id, mfccs, label])\n",
        "\n",
        "# Sort training data by file ID\n",
        "training_data.sort(key=lambda x: x[0])\n",
        "\n",
        "# Convert training data to numpy array\n",
        "X_train = np.array([data[1] for data in training_data])\n",
        "\n",
        "# Define function for z-score normalization\n",
        "def z_score_normalize(data, mean=None, std=None):\n",
        "    if mean is None:\n",
        "        mean = np.mean(data, axis=(0, 1))\n",
        "    if std is None:\n",
        "        std = np.std(data, axis=(0, 1))\n",
        "    normalized_data = (data - mean) / std\n",
        "    return normalized_data, mean, std\n",
        "\n",
        "# Normalize training data using z-score normalization\n",
        "X_train_normalized, mean, std = z_score_normalize(X_train)\n",
        "\n",
        "\n"
      ]
    }
  ]
}